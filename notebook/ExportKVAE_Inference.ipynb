{
 "cells": [
  {
   "cell_type": "code",
   "execution_count": 1,
   "metadata": {},
   "outputs": [],
   "source": [
    "from warnings import simplefilter \n",
    "import os\n",
    "simplefilter(action='ignore', category=FutureWarning)\n",
    "os.environ['TF_CPP_MIN_LOG_LEVEL'] = \"3\" \n",
    "os.environ['CUDA_VISIBLE_DEVICES'] = \"3\""
   ]
  },
  {
   "cell_type": "code",
   "execution_count": 2,
   "metadata": {},
   "outputs": [],
   "source": [
    "import numpy as np\n",
    "import tensorflow as tf\n",
    "import matplotlib.pyplot as plt\n",
    "import seaborn as sns\n",
    "from pathlib import Path\n",
    "from kvae.KalmanVariationalAutoencoder import KalmanVariationalAutoencoder\n",
    "from kvae.utils import reload_config, get_image_config\n",
    "\n",
    "%matplotlib inline\n",
    "plt.style.use(\"seaborn-white\")"
   ]
  },
  {
   "cell_type": "code",
   "execution_count": 3,
   "metadata": {},
   "outputs": [],
   "source": [
    "n_lat = 2"
   ]
  },
  {
   "cell_type": "code",
   "execution_count": 4,
   "metadata": {},
   "outputs": [],
   "source": [
    "if n_lat == 2:\n",
    "    logdir = Path(\"../examples/logs/2dspring_success_kvae/model.ckpt\")\n",
    "else:\n",
    "    logdir = Path(\"../examples/logs/2dspring_success_kvae_16dim/model.ckpt\")"
   ]
  },
  {
   "cell_type": "code",
   "execution_count": 5,
   "metadata": {},
   "outputs": [],
   "source": [
    "tf.app.flags.DEFINE_string('f', '', 'kernel')"
   ]
  },
  {
   "cell_type": "code",
   "execution_count": 6,
   "metadata": {},
   "outputs": [],
   "source": [
    "config = get_image_config()\n",
    "# To reload a saved model\n",
    "config = reload_config(config.FLAGS)"
   ]
  },
  {
   "cell_type": "code",
   "execution_count": 7,
   "metadata": {},
   "outputs": [],
   "source": [
    "config.reload_model = str(logdir)\n",
    "config.batch_size = 32\n",
    "config.dataset = \"spring_kfixlfix\"\n",
    "config.K = 7\n",
    "config.dim_a = n_lat"
   ]
  },
  {
   "cell_type": "code",
   "execution_count": 8,
   "metadata": {
    "scrolled": true
   },
   "outputs": [
    {
     "name": "stdout",
     "output_type": "stream",
     "text": [
      "WARNING:tensorflow:From /home/abe/miniconda3/envs/pytf/lib/python3.7/site-packages/tensorflow/python/framework/op_def_library.py:263: colocate_with (from tensorflow.python.framework.ops) is deprecated and will be removed in a future version.\n",
      "Instructions for updating:\n",
      "Colocations handled automatically by placer.\n",
      "WARNING:tensorflow:From /home/abe/miniconda3/envs/pytf/lib/python3.7/site-packages/tensorflow/contrib/layers/python/layers/layers.py:1624: flatten (from tensorflow.python.layers.core) is deprecated and will be removed in a future version.\n",
      "Instructions for updating:\n",
      "Use keras.layers.flatten instead.\n",
      "WARNING:tensorflow:From /home/abe/Git/kvae/kvae/KalmanVariationalAutoencoder.py:237: BasicLSTMCell.__init__ (from tensorflow.python.ops.rnn_cell_impl) is deprecated and will be removed in a future version.\n",
      "Instructions for updating:\n",
      "This class is equivalent as tf.keras.layers.LSTMCell, and will be replaced by that in Tensorflow 2.0.\n",
      "WARNING:tensorflow:From /home/abe/Git/kvae/kvae/filter.py:223: MultivariateNormalTriL.__init__ (from tensorflow.contrib.distributions.python.ops.mvn_tril) is deprecated and will be removed after 2018-10-01.\n",
      "Instructions for updating:\n",
      "The TensorFlow Distributions library has moved to TensorFlow Probability (https://github.com/tensorflow/probability). You should update all references to use `tfp.distributions` instead of `tf.contrib.distributions`.\n",
      "WARNING:tensorflow:From /home/abe/miniconda3/envs/pytf/lib/python3.7/site-packages/tensorflow/contrib/distributions/python/ops/mvn_tril.py:222: MultivariateNormalLinearOperator.__init__ (from tensorflow.contrib.distributions.python.ops.mvn_linear_operator) is deprecated and will be removed after 2018-10-01.\n",
      "Instructions for updating:\n",
      "The TensorFlow Distributions library has moved to TensorFlow Probability (https://github.com/tensorflow/probability). You should update all references to use `tfp.distributions` instead of `tf.contrib.distributions`.\n",
      "WARNING:tensorflow:From /home/abe/miniconda3/envs/pytf/lib/python3.7/site-packages/tensorflow/contrib/distributions/python/ops/mvn_linear_operator.py:199: Normal.__init__ (from tensorflow.python.ops.distributions.normal) is deprecated and will be removed after 2019-01-01.\n",
      "Instructions for updating:\n",
      "The TensorFlow Distributions library has moved to TensorFlow Probability (https://github.com/tensorflow/probability). You should update all references to use `tfp.distributions` instead of `tf.distributions`.\n",
      "WARNING:tensorflow:From /home/abe/miniconda3/envs/pytf/lib/python3.7/site-packages/tensorflow/python/ops/distributions/normal.py:160: Distribution.__init__ (from tensorflow.python.ops.distributions.distribution) is deprecated and will be removed after 2019-01-01.\n",
      "Instructions for updating:\n",
      "The TensorFlow Distributions library has moved to TensorFlow Probability (https://github.com/tensorflow/probability). You should update all references to use `tfp.distributions` instead of `tf.distributions`.\n",
      "WARNING:tensorflow:From /home/abe/miniconda3/envs/pytf/lib/python3.7/site-packages/tensorflow/contrib/distributions/python/ops/mvn_linear_operator.py:201: AffineLinearOperator.__init__ (from tensorflow.contrib.distributions.python.ops.bijectors.affine_linear_operator) is deprecated and will be removed after 2018-10-01.\n",
      "Instructions for updating:\n",
      "The TensorFlow Distributions library has moved to TensorFlow Probability (https://github.com/tensorflow/probability). You should update all references to use `tfp.distributions` instead of `tf.contrib.distributions`.\n",
      "WARNING:tensorflow:From /home/abe/miniconda3/envs/pytf/lib/python3.7/site-packages/tensorflow/contrib/distributions/python/ops/bijectors/affine_linear_operator.py:158: _DistributionShape.__init__ (from tensorflow.contrib.distributions.python.ops.shape) is deprecated and will be removed after 2018-10-01.\n",
      "Instructions for updating:\n",
      "The TensorFlow Distributions library has moved to TensorFlow Probability (https://github.com/tensorflow/probability). You should update all references to use `tfp.distributions` instead of `tf.contrib.distributions`.\n",
      "WARNING:tensorflow:From /home/abe/miniconda3/envs/pytf/lib/python3.7/site-packages/tensorflow/contrib/distributions/python/ops/mvn_linear_operator.py:205: TransformedDistribution.__init__ (from tensorflow.python.ops.distributions.transformed_distribution) is deprecated and will be removed after 2019-01-01.\n",
      "Instructions for updating:\n",
      "The TensorFlow Distributions library has moved to TensorFlow Probability (https://github.com/tensorflow/probability). You should update all references to use `tfp.distributions` instead of `tf.distributions`.\n",
      "WARNING:tensorflow:From /home/abe/Git/kvae/kvae/KalmanVariationalAutoencoder.py:318: get_or_create_global_step (from tensorflow.contrib.framework.python.ops.variables) is deprecated and will be removed in a future version.\n",
      "Instructions for updating:\n",
      "Please switch to tf.train.get_or_create_global_step\n",
      "WARNING:tensorflow:From /home/abe/miniconda3/envs/pytf/lib/python3.7/site-packages/tensorflow/python/ops/math_ops.py:3066: to_int32 (from tensorflow.python.ops.math_ops) is deprecated and will be removed in a future version.\n",
      "Instructions for updating:\n",
      "Use tf.cast instead.\n",
      "Restoring model in ../examples/logs/2dspring_success_kvae/model.ckpt\n",
      "WARNING:tensorflow:From /home/abe/miniconda3/envs/pytf/lib/python3.7/site-packages/tensorflow/python/training/saver.py:1266: checkpoint_exists (from tensorflow.python.training.checkpoint_management) is deprecated and will be removed in a future version.\n",
      "Instructions for updating:\n",
      "Use standard file APIs to check for files with this prefix.\n",
      "INFO:tensorflow:Restoring parameters from ../examples/logs/2dspring_success_kvae/model.ckpt\n"
     ]
    },
    {
     "data": {
      "text/plain": [
       "<kvae.KalmanVariationalAutoencoder.KalmanVariationalAutoencoder at 0x7f2fe1984110>"
      ]
     },
     "execution_count": 8,
     "metadata": {},
     "output_type": "execute_result"
    }
   ],
   "source": [
    "sess = tf.Session()\n",
    "model = KalmanVariationalAutoencoder(config, sess)\n",
    "model.build_model().build_loss().initialize_variables()"
   ]
  },
  {
   "cell_type": "code",
   "execution_count": 9,
   "metadata": {},
   "outputs": [],
   "source": [
    "mask_test_full = np.ones((model.config.batch_size, model.test_data.timesteps), dtype=np.float32)\n",
    "mask_test_intermittent = 1 - mask_test_full.copy()\n",
    "mask_test_intermittent[:, ::10] = 1\n",
    "mask_test_intermittent[:, -1] = 1\n",
    "mask_test_predict = mask_test_full.copy()\n",
    "mask_test_predict[:, 60:] = 0\n",
    "mask_test_impute = mask_test_full.copy()\n",
    "mask_test_impute[:, 30:50] = 0\n",
    "# mask_test[:, 20:60] = 0\n",
    "num_batches = model.test_data.sequences // model.config.batch_size\n",
    "\n",
    "for pattern in [\"full\", \"predict\", \"impute\", \"intermittent\"]:\n",
    "    mask_test = eval(\"mask_test_{}\".format(pattern))\n",
    "    x_hat, smooth, a_seq, a_mu, a_var, a_mu_pred_seq, x_gene = [], [], [], [], [], [], []\n",
    "    for i in range(num_batches):\n",
    "        slc = slice(i * model.config.batch_size, (i + 1) * model.config.batch_size)\n",
    "        feed_dict = {model.x: model.test_data.images[slc],\n",
    "                     model.kf.u: model.test_data.controls[slc],\n",
    "                     model.ph_steps: model.test_data.timesteps,\n",
    "                     model.mask: mask_test}\n",
    "        x_hat_, smooth_, a_seq_, a_mu_, a_var_, a_mu_pred_seq_ = sess.run(\n",
    "            [\n",
    "                model.model_vars[\"x_hat\"],         # x <- a <- x\n",
    "                model.model_vars[\"smooth\"][0],     # z <- a <- x\n",
    "                model.model_vars[\"a_seq\"],         # a <- x (sequential)\n",
    "                model.model_vars[\"a_mu\"],          # a <- x (squeezed)\n",
    "                model.model_vars[\"a_var\"],         # a <- x (var)\n",
    "                model.model_vars[\"a_mu_pred_seq\"]  # a <- z <- a <- x\n",
    "            ],\n",
    "            feed_dict=feed_dict)\n",
    "        x_gene_ = sess.run(model.model_vars[\"x_hat\"], feed_dict={model.model_vars[\"a_seq\"]: a_mu_pred_seq_,\n",
    "                                                               model.ph_steps: model.n_steps_gen})\n",
    "        x_hat.append(x_hat_)\n",
    "        smooth.append(smooth_)\n",
    "        a_seq.append(a_seq_)\n",
    "        a_mu.append(a_mu_)\n",
    "        a_var.append(a_var_)\n",
    "        a_mu_pred_seq.append(a_mu_pred_seq_)\n",
    "        x_gene.append(x_gene_)\n",
    "    x_hat_seq = np.vstack(x_hat)\n",
    "    smooth = np.vstack(smooth)\n",
    "    a_seq = np.vstack(a_seq)\n",
    "    a_mu = np.vstack(a_mu)\n",
    "    a_var = np.vstack(a_var)\n",
    "    a_mu_pred_seq = np.vstack(a_mu_pred_seq)\n",
    "    x_gene_seq = np.vstack(x_gene)\n",
    "    np.savez_compressed(\n",
    "        \"outputs/2dspring_{}_{}dim\".format(pattern, n_lat),\n",
    "        x_reconst=x_hat_seq, s_smooth=smooth, z_m=a_seq, z_smooth=a_mu_pred_seq, x_smooth=x_gene_seq\n",
    "    )"
   ]
  },
  {
   "cell_type": "code",
   "execution_count": null,
   "metadata": {},
   "outputs": [],
   "source": []
  }
 ],
 "metadata": {
  "kernelspec": {
   "display_name": "Python 3",
   "language": "python",
   "name": "python3"
  },
  "language_info": {
   "codemirror_mode": {
    "name": "ipython",
    "version": 3
   },
   "file_extension": ".py",
   "mimetype": "text/x-python",
   "name": "python",
   "nbconvert_exporter": "python",
   "pygments_lexer": "ipython3",
   "version": "3.7.6"
  }
 },
 "nbformat": 4,
 "nbformat_minor": 2
}
